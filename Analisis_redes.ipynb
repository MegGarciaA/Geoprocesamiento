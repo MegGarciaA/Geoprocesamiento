{
 "cells": [
  {
   "cell_type": "markdown",
   "id": "a0d0e214-2fce-4df3-8863-c6b77a7bf7e3",
   "metadata": {},
   "source": [
    "# 🧩 Análisis de redes con Python\n",
    "**Workshop 4**"
   ]
  },
  {
   "cell_type": "markdown",
   "id": "1b5979dd-d891-4300-9f3f-47d0f57901b4",
   "metadata": {},
   "source": [
    "### *Creado por: Megan García Antivar* 🌱"
   ]
  },
  {
   "cell_type": "markdown",
   "id": "0157cd9c-bb40-43dd-8989-de5550b93ae2",
   "metadata": {},
   "source": [
    "En matemáticas y en ciencias de la computación, la teoría de grafos o análisis de redes estudia las propiedades de los grafos\n",
    "(también llamadas gráficas). Un grafo es un conjunto, no vacío, de objetos llamados **vértices** (o nodos) y una selección de pares de vértices,\n",
    "llamados aristas (edges en inglés) que pueden ser orientados o no. Típicamente, un grafo se representa mediante una serie de puntos (los vértices)\n",
    "conectados por **líneas** (las aristas).\n",
    "\n",
    "Tanto los nodos como las aristas pueden contener metadatos en forma de pares clave-valor. Por ejemplo, en una red social los nodos «Hugo» y “Eric” pueden tener cada uno un atributo {\"edad 25 }, mientras que la arista entre ellos podría almacenar `{ «first_met»: «2016-05-21» }`.\n",
    "\n",
    "**¿Por qué modelar los datos como un gráfo?** 🥸\n",
    "\n",
    "Representar los datos como un grafo permite abordar cuestiones que son difíciles de responder con tablas convencionales, como:\n",
    "\n",
    "- ¿Quiénes son las personas influyentes clave dentro de una comunidad en línea?\n",
    "- ¿Cuál es la ruta óptima entre dos ciudades en una red de transporte?\n",
    "- ¿Existen clusters o comunidades densamente conectadas en la red?\n",
    "- Encontrar el camino más corto utilizando una red de calles específica es un problema SIG común que tiene muchas aplicaciones prácticas. Por ejemplo, la navegación, una de esas aplicaciones para las que se utilizan algoritmos de encaminamiento para encontrar la ruta óptima entre dos o más puntos.\n",
    "\n",
    "Examinando la estructura de un grafo podemos calcular métricas a nivel de nodo (por ejemplo, la centralidad), identificar puentes críticos o detectar agrupaciones naturales de comunidades."
   ]
  },
  {
   "cell_type": "markdown",
   "id": "31d8bad8-4834-414b-b301-ade32570b3b1",
   "metadata": {},
   "source": [
    "## 1. Obtener una red ruteable\n",
    "\n",
    "El paquete NetworkX ofrece varias herramientas para analizar redes e implementa distintos algoritmos de encaminamiento, como el de Dijkstra o el A*. Ambos se utilizan habitualmente para encontrar los caminos más cortos a lo largo de las redes de transporte.\n",
    "\n",
    "Para poder realizar análisis de redes es necesario, por supuesto, disponer de una red que se utilice para los análisis. El paquete OSMnx nos permite recuperar redes ruteables de OpenStreetMap para varios modos de transporte (a pie, en bicicleta y en coche). OSMnx también envuelve algunas de las funcionalidades de NetworkX de una manera conveniente para su uso en los datos de OpenStreetMap.\n",
    "\n",
    "En la siguiente sección, usaremos OSMnx para encontrar el camino más corto entre dos puntos basado en caminos ciclables. Con sólo pequeñas modificaciones, podemos repetir el análisis para la red de calles peatonales."
   ]
  },
  {
   "cell_type": "code",
   "execution_count": 1,
   "id": "3b62f4a1-fc0c-4420-81f0-1ea2915160e4",
   "metadata": {},
   "outputs": [
    {
     "name": "stdout",
     "output_type": "stream",
     "text": [
      "Requirement already satisfied: osmnx in /opt/miniconda/lib/python3.11/site-packages (2.0.4)\n",
      "Requirement already satisfied: geopandas>=1.0 in /opt/miniconda/lib/python3.11/site-packages (from osmnx) (1.0.1)\n",
      "Requirement already satisfied: networkx>=2.5 in /opt/miniconda/lib/python3.11/site-packages (from osmnx) (3.3)\n",
      "Requirement already satisfied: numpy>=1.22 in /opt/miniconda/lib/python3.11/site-packages (from osmnx) (2.0.1)\n",
      "Requirement already satisfied: pandas>=1.4 in /opt/miniconda/lib/python3.11/site-packages (from osmnx) (2.2.2)\n",
      "Requirement already satisfied: requests>=2.27 in /opt/miniconda/lib/python3.11/site-packages (from osmnx) (2.32.3)\n",
      "Requirement already satisfied: shapely>=2.0 in /opt/miniconda/lib/python3.11/site-packages (from osmnx) (2.0.5)\n",
      "Requirement already satisfied: pyogrio>=0.7.2 in /opt/miniconda/lib/python3.11/site-packages (from geopandas>=1.0->osmnx) (0.9.0)\n",
      "Requirement already satisfied: packaging in /opt/miniconda/lib/python3.11/site-packages (from geopandas>=1.0->osmnx) (24.1)\n",
      "Requirement already satisfied: pyproj>=3.3.0 in /opt/miniconda/lib/python3.11/site-packages (from geopandas>=1.0->osmnx) (3.6.1)\n",
      "Requirement already satisfied: python-dateutil>=2.8.2 in /opt/miniconda/lib/python3.11/site-packages (from pandas>=1.4->osmnx) (2.9.0)\n",
      "Requirement already satisfied: pytz>=2020.1 in /opt/miniconda/lib/python3.11/site-packages (from pandas>=1.4->osmnx) (2024.1)\n",
      "Requirement already satisfied: tzdata>=2022.7 in /opt/miniconda/lib/python3.11/site-packages (from pandas>=1.4->osmnx) (2024.1)\n",
      "Requirement already satisfied: charset-normalizer<4,>=2 in /opt/miniconda/lib/python3.11/site-packages (from requests>=2.27->osmnx) (2.0.4)\n",
      "Requirement already satisfied: idna<4,>=2.5 in /opt/miniconda/lib/python3.11/site-packages (from requests>=2.27->osmnx) (3.7)\n",
      "Requirement already satisfied: urllib3<3,>=1.21.1 in /opt/miniconda/lib/python3.11/site-packages (from requests>=2.27->osmnx) (2.2.2)\n",
      "Requirement already satisfied: certifi>=2017.4.17 in /opt/miniconda/lib/python3.11/site-packages (from requests>=2.27->osmnx) (2024.7.4)\n",
      "Requirement already satisfied: six>=1.5 in /opt/miniconda/lib/python3.11/site-packages (from python-dateutil>=2.8.2->pandas>=1.4->osmnx) (1.16.0)\n",
      "\u001b[33mWARNING: Running pip as the 'root' user can result in broken permissions and conflicting behaviour with the system package manager. It is recommended to use a virtual environment instead: https://pip.pypa.io/warnings/venv\u001b[0m\u001b[33m\n",
      "\u001b[0m"
     ]
    }
   ],
   "source": [
    "# Descargar librería para trabajar OpenStreetMap\n",
    "\n",
    "!pip install osmnx"
   ]
  },
  {
   "cell_type": "markdown",
   "id": "19798a50-5abd-4c50-96ab-1f4e573fdacf",
   "metadata": {},
   "source": [
    "### 📦 ¿Qué es `osmnx`?\n",
    "\n",
    "`osmnx` es una biblioteca de Python muy potente que permite trabajar con datos geoespaciales y de redes urbanas usando OpenStreetMap. A continuación se resumen sus principales funcionalidades:\n",
    "\n",
    "| Funcionalidad | Descripción |\n",
    "|---------------|-------------|\n",
    "| 📥 Descargar datos | Permite obtener redes de calles, caminos y otros elementos desde OpenStreetMap. |\n",
    "| 🔁 Convertir en grafos | Convierte los datos en grafos de `networkx` o en `GeoDataFrames` para análisis geoespacial. |\n",
    "| 📊 Análisis de redes | Calcula rutas más cortas, medidas de centralidad, accesibilidad, conectividad, etc. |\n",
    "| 🗺️ Visualización | Genera mapas y gráficos de la red, rutas, puntos de interés, etc. |\n",
    "| 🌍 Trabajar con lugares reales | Permite usar nombres de lugares (ej. \"Bogotá\", \"Madrid\") o polígonos personalizados como entrada. |"
   ]
  },
  {
   "cell_type": "code",
   "execution_count": null,
   "id": "ea523ad4-0590-456c-a516-76a73499911a",
   "metadata": {},
   "outputs": [],
   "source": []
  }
 ],
 "metadata": {
  "kernelspec": {
   "display_name": "Python 3 (ipykernel)",
   "language": "python",
   "name": "python3"
  },
  "language_info": {
   "codemirror_mode": {
    "name": "ipython",
    "version": 3
   },
   "file_extension": ".py",
   "mimetype": "text/x-python",
   "name": "python",
   "nbconvert_exporter": "python",
   "pygments_lexer": "ipython3",
   "version": "3.11.9"
  }
 },
 "nbformat": 4,
 "nbformat_minor": 5
}
